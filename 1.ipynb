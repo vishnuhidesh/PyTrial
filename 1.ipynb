{
 "cells": [
  {
   "cell_type": "code",
   "execution_count": 7,
   "metadata": {},
   "outputs": [
    {
     "name": "stdout",
     "output_type": "stream",
     "text": [
      "[6, 28, 496, 8128]\n"
     ]
    }
   ],
   "source": [
    "# n = int(input(\"Enter the number of perfect numbers to be generated \"))\n",
    "n = 4\n",
    "perfect = []\n",
    "number = 2\n",
    "while (len(perfect)<n):\n",
    "    divsum = sum([divisor for divisor in range(1,number) if number%divisor == 0])\n",
    "    if divsum == number:\n",
    "        perfect.append(number)\n",
    "    number = number + 1\n",
    "print(perfect)"
   ]
  }
 ],
 "metadata": {
  "kernelspec": {
   "display_name": "Python 3",
   "language": "python",
   "name": "python3"
  },
  "language_info": {
   "codemirror_mode": {
    "name": "ipython",
    "version": 3
   },
   "file_extension": ".py",
   "mimetype": "text/x-python",
   "name": "python",
   "nbconvert_exporter": "python",
   "pygments_lexer": "ipython3",
   "version": "3.11.4"
  }
 },
 "nbformat": 4,
 "nbformat_minor": 2
}
